{
 "cells": [
  {
   "cell_type": "markdown",
   "metadata": {},
   "source": [
    "# Intro to BigQuery and SQL"
   ]
  },
  {
   "cell_type": "code",
   "execution_count": 2,
   "metadata": {},
   "outputs": [],
   "source": [
    "from google.cloud import bigquery"
   ]
  },
  {
   "cell_type": "code",
   "execution_count": 3,
   "metadata": {},
   "outputs": [],
   "source": [
    "import os\n",
    "os.environ[\"GOOGLE_APPLICATION_CREDENTIALS\"]=\"C:/Users/levka/Downloads/KaggleSQL-79493a7efc0a.json\""
   ]
  },
  {
   "cell_type": "code",
   "execution_count": 13,
   "metadata": {},
   "outputs": [],
   "source": [
    "# Create a \"Client\" object \n",
    "client = bigquery.Client()"
   ]
  },
  {
   "cell_type": "markdown",
   "metadata": {},
   "source": [
    "In BigQuery, each dataset is contained in a corresponding project. In this case, your hacker_news dataset is contained in the bigquery-public-data project.\n",
    "\n",
    "To access the dataset:\n",
    "\n",
    "- We begin by constructing a reference to the dataset with the dataset() method.\n",
    "\n",
    "- Next, we use the get_dataset() method, along with the reference we just constructed, to fetch the dataset."
   ]
  },
  {
   "cell_type": "code",
   "execution_count": 17,
   "metadata": {},
   "outputs": [],
   "source": [
    "# Construct a reference to the \"hacker_news\" dataset\n",
    "dataset_ref = client.dataset(\"hacker_news\", project = \"bigquery-public-data\")\n",
    "\n",
    "# API request - fetch the dataset\n",
    "dataset = client.get_dataset(dataset_ref)"
   ]
  },
  {
   "cell_type": "markdown",
   "metadata": {},
   "source": [
    "Every dataset is just a collection of tables. You can think of a dataset as a spreadsheet file containing multiple tables, all composed of rows and columns.\n",
    "\n",
    "We use the list_tables() method to list the tables in the dataset."
   ]
  },
  {
   "cell_type": "code",
   "execution_count": 18,
   "metadata": {},
   "outputs": [
    {
     "name": "stdout",
     "output_type": "stream",
     "text": [
      "comments\n",
      "full\n",
      "full_201510\n",
      "stories\n"
     ]
    }
   ],
   "source": [
    "# List all the tables in the \"hacker_news\" dataset\n",
    "tables = list(client.list_tables(dataset))\n",
    "\n",
    "# Print the names of all tables in the dataset\n",
    "for table in tables:\n",
    "    print(table.table_id)"
   ]
  },
  {
   "cell_type": "markdown",
   "metadata": {},
   "source": [
    "Similar to how we fetched a dataset, we can fetch a table. In the code cell below we fetch the full table in the hacker_news dataset"
   ]
  },
  {
   "cell_type": "code",
   "execution_count": 19,
   "metadata": {},
   "outputs": [],
   "source": [
    "# COnstruct a reference to the \"full\" table\n",
    "table_ref = dataset_ref.table(\"full\")\n",
    "\n",
    "# API request - fetch the table\n",
    "table = client.get_table(table_ref)"
   ]
  },
  {
   "cell_type": "markdown",
   "metadata": {},
   "source": [
    "![alt text](BigQuery.PNG \"BigQuery\")"
   ]
  },
  {
   "cell_type": "markdown",
   "metadata": {},
   "source": [
    "## Table schema\n",
    "\n",
    "The structure of a table is called its schema. We need to understand a table's schema to effectively pull out the data we want.\n",
    "\n",
    "In this example, we'll investigate the full table that we fetched above."
   ]
  },
  {
   "cell_type": "code",
   "execution_count": 20,
   "metadata": {},
   "outputs": [
    {
     "data": {
      "text/plain": [
       "[SchemaField('by', 'STRING', 'NULLABLE', \"The username of the item's author.\", ()),\n",
       " SchemaField('score', 'INTEGER', 'NULLABLE', 'Story score', ()),\n",
       " SchemaField('time', 'INTEGER', 'NULLABLE', 'Unix time', ()),\n",
       " SchemaField('timestamp', 'TIMESTAMP', 'NULLABLE', 'Timestamp for the unix time', ()),\n",
       " SchemaField('title', 'STRING', 'NULLABLE', 'Story title', ()),\n",
       " SchemaField('type', 'STRING', 'NULLABLE', 'Type of details (comment, comment_ranking, poll, story, job, pollopt)', ()),\n",
       " SchemaField('url', 'STRING', 'NULLABLE', 'Story url', ()),\n",
       " SchemaField('text', 'STRING', 'NULLABLE', 'Story or comment text', ()),\n",
       " SchemaField('parent', 'INTEGER', 'NULLABLE', 'Parent comment ID', ()),\n",
       " SchemaField('deleted', 'BOOLEAN', 'NULLABLE', 'Is deleted?', ()),\n",
       " SchemaField('dead', 'BOOLEAN', 'NULLABLE', 'Is dead?', ()),\n",
       " SchemaField('descendants', 'INTEGER', 'NULLABLE', 'Number of story or poll descendants', ()),\n",
       " SchemaField('id', 'INTEGER', 'NULLABLE', \"The item's unique id.\", ()),\n",
       " SchemaField('ranking', 'INTEGER', 'NULLABLE', 'Comment ranking', ())]"
      ]
     },
     "execution_count": 20,
     "metadata": {},
     "output_type": "execute_result"
    }
   ],
   "source": [
    "# Print information on all the columns in the \"full\" table in the \"hacker_news\" dataset\n",
    "table.schema"
   ]
  },
  {
   "cell_type": "markdown",
   "metadata": {},
   "source": [
    "Each SchemaField tells us about a specific column (which we also refer to as *field*). In order, the information is:\n",
    "\n",
    "- The *name* of the column\n",
    "\n",
    "- The *field type* (or datatype) in the column\n",
    "\n",
    "- The *mode* of the column ('NULLABLE' means that a column allows NULL values, and is the default)\n",
    "\n",
    "- A *description* of the data in that column\n",
    "\n",
    "The first field has the SchemaField:\n",
    "\n",
    "SchemaField('by', 'string', 'NULLABLE', \"The username of the item's author.\",())\n",
    "\n",
    "this means:\n",
    "\n",
    "- the field (or column) is called by,\n",
    "\n",
    "- the data in this field is strings,\n",
    "\n",
    "- NULL values are allowed, and\n",
    "\n",
    "- it contains the usernames corresponding to each item's author\n",
    "\n",
    "We can use the list_rows() method to check just the first five lines of the full table to make sure this is right. (Sometimes databases have outdated descriptions, so it's good to check.) This returns a BigQuery RowIterator object that can quickly be converted to a pandas DataFrame with the to_dataframe() method.\n",
    "\n"
   ]
  },
  {
   "cell_type": "code",
   "execution_count": 22,
   "metadata": {},
   "outputs": [
    {
     "data": {
      "text/html": [
       "<div>\n",
       "<style scoped>\n",
       "    .dataframe tbody tr th:only-of-type {\n",
       "        vertical-align: middle;\n",
       "    }\n",
       "\n",
       "    .dataframe tbody tr th {\n",
       "        vertical-align: top;\n",
       "    }\n",
       "\n",
       "    .dataframe thead th {\n",
       "        text-align: right;\n",
       "    }\n",
       "</style>\n",
       "<table border=\"1\" class=\"dataframe\">\n",
       "  <thead>\n",
       "    <tr style=\"text-align: right;\">\n",
       "      <th></th>\n",
       "      <th>by</th>\n",
       "      <th>score</th>\n",
       "      <th>time</th>\n",
       "      <th>timestamp</th>\n",
       "      <th>title</th>\n",
       "      <th>type</th>\n",
       "      <th>url</th>\n",
       "      <th>text</th>\n",
       "      <th>parent</th>\n",
       "      <th>deleted</th>\n",
       "      <th>dead</th>\n",
       "      <th>descendants</th>\n",
       "      <th>id</th>\n",
       "      <th>ranking</th>\n",
       "    </tr>\n",
       "  </thead>\n",
       "  <tbody>\n",
       "    <tr>\n",
       "      <th>0</th>\n",
       "      <td>us0r</td>\n",
       "      <td>NaN</td>\n",
       "      <td>1514138229</td>\n",
       "      <td>2017-12-24 17:57:09+00:00</td>\n",
       "      <td></td>\n",
       "      <td>comment</td>\n",
       "      <td></td>\n",
       "      <td>thats not even close to the final price.  they...</td>\n",
       "      <td>15999907.0</td>\n",
       "      <td>None</td>\n",
       "      <td>None</td>\n",
       "      <td>NaN</td>\n",
       "      <td>16000479</td>\n",
       "      <td>None</td>\n",
       "    </tr>\n",
       "    <tr>\n",
       "      <th>1</th>\n",
       "      <td>dagobertus79</td>\n",
       "      <td>1.0</td>\n",
       "      <td>1312718363</td>\n",
       "      <td>2011-08-07 11:59:23+00:00</td>\n",
       "      <td>Herzlich Willkommen bei bis zu 12 Casino-Tricks</td>\n",
       "      <td>story</td>\n",
       "      <td>http://www.4jetons.eu/</td>\n",
       "      <td></td>\n",
       "      <td>NaN</td>\n",
       "      <td>None</td>\n",
       "      <td>True</td>\n",
       "      <td>-1.0</td>\n",
       "      <td>2856453</td>\n",
       "      <td>None</td>\n",
       "    </tr>\n",
       "    <tr>\n",
       "      <th>2</th>\n",
       "      <td>mherrmann</td>\n",
       "      <td>NaN</td>\n",
       "      <td>1542720628</td>\n",
       "      <td>2018-11-20 13:30:28+00:00</td>\n",
       "      <td></td>\n",
       "      <td>comment</td>\n",
       "      <td></td>\n",
       "      <td>You did read the section &amp;quot;Maybe you also ...</td>\n",
       "      <td>18493612.0</td>\n",
       "      <td>None</td>\n",
       "      <td>None</td>\n",
       "      <td>NaN</td>\n",
       "      <td>18493616</td>\n",
       "      <td>None</td>\n",
       "    </tr>\n",
       "    <tr>\n",
       "      <th>3</th>\n",
       "      <td>mdadm</td>\n",
       "      <td>NaN</td>\n",
       "      <td>1469750768</td>\n",
       "      <td>2016-07-29 00:06:08+00:00</td>\n",
       "      <td></td>\n",
       "      <td>comment</td>\n",
       "      <td></td>\n",
       "      <td>From your link:&lt;p&gt;&amp;gt;Applies to: Office 2007 ...</td>\n",
       "      <td>12182633.0</td>\n",
       "      <td>None</td>\n",
       "      <td>None</td>\n",
       "      <td>NaN</td>\n",
       "      <td>12184180</td>\n",
       "      <td>None</td>\n",
       "    </tr>\n",
       "    <tr>\n",
       "      <th>4</th>\n",
       "      <td>narrowingorbits</td>\n",
       "      <td>NaN</td>\n",
       "      <td>1494967212</td>\n",
       "      <td>2017-05-16 20:40:12+00:00</td>\n",
       "      <td></td>\n",
       "      <td>comment</td>\n",
       "      <td></td>\n",
       "      <td>As I said, that makes sense, and I agree. That...</td>\n",
       "      <td>14352955.0</td>\n",
       "      <td>None</td>\n",
       "      <td>None</td>\n",
       "      <td>NaN</td>\n",
       "      <td>14353117</td>\n",
       "      <td>None</td>\n",
       "    </tr>\n",
       "  </tbody>\n",
       "</table>\n",
       "</div>"
      ],
      "text/plain": [
       "                by  score        time                 timestamp  \\\n",
       "0             us0r    NaN  1514138229 2017-12-24 17:57:09+00:00   \n",
       "1     dagobertus79    1.0  1312718363 2011-08-07 11:59:23+00:00   \n",
       "2        mherrmann    NaN  1542720628 2018-11-20 13:30:28+00:00   \n",
       "3            mdadm    NaN  1469750768 2016-07-29 00:06:08+00:00   \n",
       "4  narrowingorbits    NaN  1494967212 2017-05-16 20:40:12+00:00   \n",
       "\n",
       "                                             title     type  \\\n",
       "0                                                   comment   \n",
       "1  Herzlich Willkommen bei bis zu 12 Casino-Tricks    story   \n",
       "2                                                   comment   \n",
       "3                                                   comment   \n",
       "4                                                   comment   \n",
       "\n",
       "                      url                                               text  \\\n",
       "0                          thats not even close to the final price.  they...   \n",
       "1  http://www.4jetons.eu/                                                      \n",
       "2                          You did read the section &quot;Maybe you also ...   \n",
       "3                          From your link:<p>&gt;Applies to: Office 2007 ...   \n",
       "4                          As I said, that makes sense, and I agree. That...   \n",
       "\n",
       "       parent deleted  dead  descendants        id ranking  \n",
       "0  15999907.0    None  None          NaN  16000479    None  \n",
       "1         NaN    None  True         -1.0   2856453    None  \n",
       "2  18493612.0    None  None          NaN  18493616    None  \n",
       "3  12182633.0    None  None          NaN  12184180    None  \n",
       "4  14352955.0    None  None          NaN  14353117    None  "
      ]
     },
     "execution_count": 22,
     "metadata": {},
     "output_type": "execute_result"
    }
   ],
   "source": [
    "# Preview the first five lines of the \"full\" table\n",
    "client.list_rows(table, max_results = 5).to_dataframe()"
   ]
  },
  {
   "cell_type": "markdown",
   "metadata": {},
   "source": [
    "The list_rows() method will also let us look at just the information in a specific column. If we want to see the first five entries in the by column, for example we can do that:"
   ]
  },
  {
   "cell_type": "code",
   "execution_count": 30,
   "metadata": {},
   "outputs": [
    {
     "data": {
      "text/html": [
       "<div>\n",
       "<style scoped>\n",
       "    .dataframe tbody tr th:only-of-type {\n",
       "        vertical-align: middle;\n",
       "    }\n",
       "\n",
       "    .dataframe tbody tr th {\n",
       "        vertical-align: top;\n",
       "    }\n",
       "\n",
       "    .dataframe thead th {\n",
       "        text-align: right;\n",
       "    }\n",
       "</style>\n",
       "<table border=\"1\" class=\"dataframe\">\n",
       "  <thead>\n",
       "    <tr style=\"text-align: right;\">\n",
       "      <th></th>\n",
       "      <th>by</th>\n",
       "    </tr>\n",
       "  </thead>\n",
       "  <tbody>\n",
       "    <tr>\n",
       "      <th>0</th>\n",
       "      <td>us0r</td>\n",
       "    </tr>\n",
       "    <tr>\n",
       "      <th>1</th>\n",
       "      <td>dagobertus79</td>\n",
       "    </tr>\n",
       "    <tr>\n",
       "      <th>2</th>\n",
       "      <td>mherrmann</td>\n",
       "    </tr>\n",
       "    <tr>\n",
       "      <th>3</th>\n",
       "      <td>mdadm</td>\n",
       "    </tr>\n",
       "    <tr>\n",
       "      <th>4</th>\n",
       "      <td>narrowingorbits</td>\n",
       "    </tr>\n",
       "  </tbody>\n",
       "</table>\n",
       "</div>"
      ],
      "text/plain": [
       "                by\n",
       "0             us0r\n",
       "1     dagobertus79\n",
       "2        mherrmann\n",
       "3            mdadm\n",
       "4  narrowingorbits"
      ]
     },
     "execution_count": 30,
     "metadata": {},
     "output_type": "execute_result"
    }
   ],
   "source": [
    "# Preview the first five entries in the \"by\" column of the \"full\" table\n",
    "client.list_rows(table, selected_fields = table.schema[:1], max_results = 5).to_dataframe()"
   ]
  },
  {
   "cell_type": "markdown",
   "metadata": {},
   "source": [
    "## Exercise\n",
    "\n",
    "### Introduction\n",
    "\n",
    "The first test of your new data exploration skills uses data describing crime in the city of Chicago.\n",
    "\n"
   ]
  },
  {
   "cell_type": "code",
   "execution_count": 4,
   "metadata": {},
   "outputs": [],
   "source": [
    "# Create a \"Client\" object\n",
    "client = bigquery.Client()\n",
    "\n",
    "# Construct a reference to the \"chicago_crime\" dataset\n",
    "dataset_ref = client.dataset(\"chicago_crime\", project=\"bigquery-public-data\")\n",
    "\n",
    "# API request - fetch the dataset\n",
    "dataset = client.get_dataset(dataset_ref)\n"
   ]
  },
  {
   "cell_type": "markdown",
   "metadata": {},
   "source": [
    "### Count tables in the dataset\n",
    "\n",
    "How many tables are in the Chicago Crime dataset?"
   ]
  },
  {
   "cell_type": "code",
   "execution_count": 10,
   "metadata": {},
   "outputs": [
    {
     "name": "stdout",
     "output_type": "stream",
     "text": [
      "1\n"
     ]
    }
   ],
   "source": [
    "tables = list(client.list_tables(dataset))\n",
    "tables_names = [x.table_id for x in list(client.list_tables(dataset))]\n",
    "print(len(tables_names))"
   ]
  },
  {
   "cell_type": "code",
   "execution_count": 11,
   "metadata": {},
   "outputs": [
    {
     "name": "stdout",
     "output_type": "stream",
     "text": [
      "['crime']\n"
     ]
    }
   ],
   "source": [
    "print(tables_names)"
   ]
  },
  {
   "cell_type": "markdown",
   "metadata": {},
   "source": [
    "### Explore the table schema\n",
    "\n",
    "How many columns in the `crime` table have `TIMESTAMP` data?"
   ]
  },
  {
   "cell_type": "code",
   "execution_count": 12,
   "metadata": {},
   "outputs": [],
   "source": [
    "# COnstruct a reference to the \"crime\" table\n",
    "table_ref = dataset_ref.table(\"crime\")\n",
    "\n",
    "# API request - fetch the table\n",
    "table = client.get_table(table_ref)"
   ]
  },
  {
   "cell_type": "code",
   "execution_count": 25,
   "metadata": {},
   "outputs": [
    {
     "data": {
      "text/plain": [
       "2"
      ]
     },
     "execution_count": 25,
     "metadata": {},
     "output_type": "execute_result"
    }
   ],
   "source": [
    "len([ c for c in table.schema if c.field_type == \"TIMESTAMP\"])"
   ]
  },
  {
   "cell_type": "markdown",
   "metadata": {},
   "source": [
    "### Create a crime map\n",
    "\n",
    "If you wanted to create a map with a dot at the location of each crime, what are the names of the two fields you likely need to pull out of the `crime` table to plot the crimes on a map?"
   ]
  },
  {
   "cell_type": "code",
   "execution_count": 26,
   "metadata": {},
   "outputs": [
    {
     "data": {
      "text/plain": [
       "[SchemaField('unique_key', 'INTEGER', 'REQUIRED', 'Unique identifier for the record.', ()),\n",
       " SchemaField('case_number', 'STRING', 'NULLABLE', 'The Chicago Police Department RD Number (Records Division Number), which is unique to the incident.', ()),\n",
       " SchemaField('date', 'TIMESTAMP', 'NULLABLE', 'Date when the incident occurred. this is sometimes a best estimate.', ()),\n",
       " SchemaField('block', 'STRING', 'NULLABLE', 'The partially redacted address where the incident occurred, placing it on the same block as the actual address.', ()),\n",
       " SchemaField('iucr', 'STRING', 'NULLABLE', 'The Illinois Unifrom Crime Reporting code. This is directly linked to the Primary Type and Description. See the list of IUCR codes at https://data.cityofchicago.org/d/c7ck-438e.', ()),\n",
       " SchemaField('primary_type', 'STRING', 'NULLABLE', 'The primary description of the IUCR code.', ()),\n",
       " SchemaField('description', 'STRING', 'NULLABLE', 'The secondary description of the IUCR code, a subcategory of the primary description.', ()),\n",
       " SchemaField('location_description', 'STRING', 'NULLABLE', 'Description of the location where the incident occurred.', ()),\n",
       " SchemaField('arrest', 'BOOLEAN', 'NULLABLE', 'Indicates whether an arrest was made.', ()),\n",
       " SchemaField('domestic', 'BOOLEAN', 'NULLABLE', 'Indicates whether the incident was domestic-related as defined by the Illinois Domestic Violence Act.', ()),\n",
       " SchemaField('beat', 'INTEGER', 'NULLABLE', 'Indicates the beat where the incident occurred. A beat is the smallest police geographic area – each beat has a dedicated police beat car. Three to five beats make up a police sector, and three sectors make up a police district. The Chicago Police Department has 22 police districts. See the beats at https://data.cityofchicago.org/d/aerh-rz74.', ()),\n",
       " SchemaField('district', 'INTEGER', 'NULLABLE', 'Indicates the police district where the incident occurred. See the districts at https://data.cityofchicago.org/d/fthy-xz3r.', ()),\n",
       " SchemaField('ward', 'INTEGER', 'NULLABLE', 'The ward (City Council district) where the incident occurred. See the wards at https://data.cityofchicago.org/d/sp34-6z76.', ()),\n",
       " SchemaField('community_area', 'INTEGER', 'NULLABLE', 'Indicates the community area where the incident occurred. Chicago has 77 community areas. See the community areas at https://data.cityofchicago.org/d/cauq-8yn6.', ()),\n",
       " SchemaField('fbi_code', 'STRING', 'NULLABLE', \"Indicates the crime classification as outlined in the FBI's National Incident-Based Reporting System (NIBRS). See the Chicago Police Department listing of these classifications at http://gis.chicagopolice.org/clearmap_crime_sums/crime_types.html.\", ()),\n",
       " SchemaField('x_coordinate', 'FLOAT', 'NULLABLE', 'The x coordinate of the location where the incident occurred in State Plane Illinois East NAD 1983 projection. This location is shifted from the actual location for partial redaction but falls on the same block.', ()),\n",
       " SchemaField('y_coordinate', 'FLOAT', 'NULLABLE', 'The y coordinate of the location where the incident occurred in State Plane Illinois East NAD 1983 projection. This location is shifted from the actual location for partial redaction but falls on the same block.', ()),\n",
       " SchemaField('year', 'INTEGER', 'NULLABLE', 'Year the incident occurred.', ()),\n",
       " SchemaField('updated_on', 'TIMESTAMP', 'NULLABLE', 'Date and time the record was last updated.', ()),\n",
       " SchemaField('latitude', 'FLOAT', 'NULLABLE', 'The latitude of the location where the incident occurred. This location is shifted from the actual location for partial redaction but falls on the same block.', ()),\n",
       " SchemaField('longitude', 'FLOAT', 'NULLABLE', 'The longitude of the location where the incident occurred. This location is shifted from the actual location for partial redaction but falls on the same block.', ()),\n",
       " SchemaField('location', 'STRING', 'NULLABLE', 'The location where the incident occurred in a format that allows for creation of maps and other geographic operations on this data portal. This location is shifted from the actual location for partial redaction but falls on the same block.', ())]"
      ]
     },
     "execution_count": 26,
     "metadata": {},
     "output_type": "execute_result"
    }
   ],
   "source": [
    "table.schema"
   ]
  },
  {
   "cell_type": "markdown",
   "metadata": {},
   "source": [
    "I would need latitude and longitude.\n",
    "\n",
    "\n",
    "Thinking about the question above, there are a few columns that appear to have geographic data. Look at a few values (with the `list_rows()` command) to see if you can determine their relationship.  Two columns will still be hard to interpret. But it should be obvious how the `location` column relates to `latitude` and `longitude`."
   ]
  },
  {
   "cell_type": "code",
   "execution_count": 28,
   "metadata": {},
   "outputs": [
    {
     "data": {
      "text/html": [
       "<div>\n",
       "<style scoped>\n",
       "    .dataframe tbody tr th:only-of-type {\n",
       "        vertical-align: middle;\n",
       "    }\n",
       "\n",
       "    .dataframe tbody tr th {\n",
       "        vertical-align: top;\n",
       "    }\n",
       "\n",
       "    .dataframe thead th {\n",
       "        text-align: right;\n",
       "    }\n",
       "</style>\n",
       "<table border=\"1\" class=\"dataframe\">\n",
       "  <thead>\n",
       "    <tr style=\"text-align: right;\">\n",
       "      <th></th>\n",
       "      <th>unique_key</th>\n",
       "      <th>case_number</th>\n",
       "      <th>date</th>\n",
       "      <th>block</th>\n",
       "      <th>iucr</th>\n",
       "      <th>primary_type</th>\n",
       "      <th>description</th>\n",
       "      <th>location_description</th>\n",
       "      <th>arrest</th>\n",
       "      <th>domestic</th>\n",
       "      <th>...</th>\n",
       "      <th>ward</th>\n",
       "      <th>community_area</th>\n",
       "      <th>fbi_code</th>\n",
       "      <th>x_coordinate</th>\n",
       "      <th>y_coordinate</th>\n",
       "      <th>year</th>\n",
       "      <th>updated_on</th>\n",
       "      <th>latitude</th>\n",
       "      <th>longitude</th>\n",
       "      <th>location</th>\n",
       "    </tr>\n",
       "  </thead>\n",
       "  <tbody>\n",
       "    <tr>\n",
       "      <th>0</th>\n",
       "      <td>11725358</td>\n",
       "      <td>JC309736</td>\n",
       "      <td>2019-06-15 00:00:00+00:00</td>\n",
       "      <td>058XX N ST JOHNS CT</td>\n",
       "      <td>1156</td>\n",
       "      <td>DECEPTIVE PRACTICE</td>\n",
       "      <td>ATTEMPT - FINANCIAL IDENTITY THEFT</td>\n",
       "      <td>OTHER</td>\n",
       "      <td>False</td>\n",
       "      <td>False</td>\n",
       "      <td>...</td>\n",
       "      <td>39</td>\n",
       "      <td>12</td>\n",
       "      <td>11</td>\n",
       "      <td>1146654.0</td>\n",
       "      <td>1938708.0</td>\n",
       "      <td>2019</td>\n",
       "      <td>2019-06-30 15:56:27+00:00</td>\n",
       "      <td>41.987793</td>\n",
       "      <td>-87.735964</td>\n",
       "      <td>(41.987792784, -87.735963789)</td>\n",
       "    </tr>\n",
       "    <tr>\n",
       "      <th>1</th>\n",
       "      <td>11719073</td>\n",
       "      <td>JC301927</td>\n",
       "      <td>2019-04-24 22:30:00+00:00</td>\n",
       "      <td>064XX S NARRAGANSETT AVE</td>\n",
       "      <td>0281</td>\n",
       "      <td>CRIM SEXUAL ASSAULT</td>\n",
       "      <td>NON-AGGRAVATED</td>\n",
       "      <td>RESIDENCE</td>\n",
       "      <td>False</td>\n",
       "      <td>False</td>\n",
       "      <td>...</td>\n",
       "      <td>23</td>\n",
       "      <td>64</td>\n",
       "      <td>02</td>\n",
       "      <td>1134872.0</td>\n",
       "      <td>1860926.0</td>\n",
       "      <td>2019</td>\n",
       "      <td>2019-06-30 15:56:27+00:00</td>\n",
       "      <td>41.774566</td>\n",
       "      <td>-87.781140</td>\n",
       "      <td>(41.774565637, -87.781140173)</td>\n",
       "    </tr>\n",
       "    <tr>\n",
       "      <th>2</th>\n",
       "      <td>11657538</td>\n",
       "      <td>JC227404</td>\n",
       "      <td>2019-04-16 23:39:00+00:00</td>\n",
       "      <td>018XX W 35TH ST</td>\n",
       "      <td>1305</td>\n",
       "      <td>CRIMINAL DAMAGE</td>\n",
       "      <td>CRIMINAL DEFACEMENT</td>\n",
       "      <td>GAS STATION</td>\n",
       "      <td>False</td>\n",
       "      <td>False</td>\n",
       "      <td>...</td>\n",
       "      <td>12</td>\n",
       "      <td>59</td>\n",
       "      <td>14</td>\n",
       "      <td>1164779.0</td>\n",
       "      <td>1881499.0</td>\n",
       "      <td>2019</td>\n",
       "      <td>2019-04-23 16:22:49+00:00</td>\n",
       "      <td>41.830441</td>\n",
       "      <td>-87.670924</td>\n",
       "      <td>(41.830441145, -87.670923807)</td>\n",
       "    </tr>\n",
       "    <tr>\n",
       "      <th>3</th>\n",
       "      <td>11654695</td>\n",
       "      <td>JC223942</td>\n",
       "      <td>2019-04-14 04:14:00+00:00</td>\n",
       "      <td>098XX S AVENUE G</td>\n",
       "      <td>2028</td>\n",
       "      <td>NARCOTICS</td>\n",
       "      <td>POSS: SYNTHETIC DRUGS</td>\n",
       "      <td>PARK PROPERTY</td>\n",
       "      <td>True</td>\n",
       "      <td>False</td>\n",
       "      <td>...</td>\n",
       "      <td>10</td>\n",
       "      <td>52</td>\n",
       "      <td>18</td>\n",
       "      <td>1203118.0</td>\n",
       "      <td>1840607.0</td>\n",
       "      <td>2019</td>\n",
       "      <td>2019-04-21 16:07:03+00:00</td>\n",
       "      <td>41.717334</td>\n",
       "      <td>-87.531658</td>\n",
       "      <td>(41.717334211, -87.531658377)</td>\n",
       "    </tr>\n",
       "    <tr>\n",
       "      <th>4</th>\n",
       "      <td>11642355</td>\n",
       "      <td>JC208983</td>\n",
       "      <td>2019-03-30 08:35:00+00:00</td>\n",
       "      <td>074XX W SEMINOLE ST</td>\n",
       "      <td>1152</td>\n",
       "      <td>DECEPTIVE PRACTICE</td>\n",
       "      <td>ILLEGAL USE CASH CARD</td>\n",
       "      <td>RESIDENCE</td>\n",
       "      <td>False</td>\n",
       "      <td>False</td>\n",
       "      <td>...</td>\n",
       "      <td>41</td>\n",
       "      <td>10</td>\n",
       "      <td>11</td>\n",
       "      <td>1125471.0</td>\n",
       "      <td>1937243.0</td>\n",
       "      <td>2019</td>\n",
       "      <td>2019-04-06 16:04:43+00:00</td>\n",
       "      <td>41.984152</td>\n",
       "      <td>-87.813910</td>\n",
       "      <td>(41.984151676, -87.813910429)</td>\n",
       "    </tr>\n",
       "  </tbody>\n",
       "</table>\n",
       "<p>5 rows × 22 columns</p>\n",
       "</div>"
      ],
      "text/plain": [
       "   unique_key case_number                      date                     block  \\\n",
       "0    11725358    JC309736 2019-06-15 00:00:00+00:00       058XX N ST JOHNS CT   \n",
       "1    11719073    JC301927 2019-04-24 22:30:00+00:00  064XX S NARRAGANSETT AVE   \n",
       "2    11657538    JC227404 2019-04-16 23:39:00+00:00           018XX W 35TH ST   \n",
       "3    11654695    JC223942 2019-04-14 04:14:00+00:00          098XX S AVENUE G   \n",
       "4    11642355    JC208983 2019-03-30 08:35:00+00:00       074XX W SEMINOLE ST   \n",
       "\n",
       "   iucr         primary_type                         description  \\\n",
       "0  1156   DECEPTIVE PRACTICE  ATTEMPT - FINANCIAL IDENTITY THEFT   \n",
       "1  0281  CRIM SEXUAL ASSAULT                      NON-AGGRAVATED   \n",
       "2  1305      CRIMINAL DAMAGE                 CRIMINAL DEFACEMENT   \n",
       "3  2028            NARCOTICS               POSS: SYNTHETIC DRUGS   \n",
       "4  1152   DECEPTIVE PRACTICE               ILLEGAL USE CASH CARD   \n",
       "\n",
       "  location_description  arrest  domestic  ...  ward  community_area  fbi_code  \\\n",
       "0                OTHER   False     False  ...    39              12        11   \n",
       "1            RESIDENCE   False     False  ...    23              64        02   \n",
       "2          GAS STATION   False     False  ...    12              59        14   \n",
       "3        PARK PROPERTY    True     False  ...    10              52        18   \n",
       "4            RESIDENCE   False     False  ...    41              10        11   \n",
       "\n",
       "   x_coordinate y_coordinate  year                updated_on   latitude  \\\n",
       "0     1146654.0    1938708.0  2019 2019-06-30 15:56:27+00:00  41.987793   \n",
       "1     1134872.0    1860926.0  2019 2019-06-30 15:56:27+00:00  41.774566   \n",
       "2     1164779.0    1881499.0  2019 2019-04-23 16:22:49+00:00  41.830441   \n",
       "3     1203118.0    1840607.0  2019 2019-04-21 16:07:03+00:00  41.717334   \n",
       "4     1125471.0    1937243.0  2019 2019-04-06 16:04:43+00:00  41.984152   \n",
       "\n",
       "   longitude                       location  \n",
       "0 -87.735964  (41.987792784, -87.735963789)  \n",
       "1 -87.781140  (41.774565637, -87.781140173)  \n",
       "2 -87.670924  (41.830441145, -87.670923807)  \n",
       "3 -87.531658  (41.717334211, -87.531658377)  \n",
       "4 -87.813910  (41.984151676, -87.813910429)  \n",
       "\n",
       "[5 rows x 22 columns]"
      ]
     },
     "execution_count": 28,
     "metadata": {},
     "output_type": "execute_result"
    }
   ],
   "source": [
    "client.list_rows(table, max_results = 5).to_dataframe()"
   ]
  }
 ],
 "metadata": {
  "kernelspec": {
   "display_name": "Python 3",
   "language": "python",
   "name": "python3"
  },
  "language_info": {
   "codemirror_mode": {
    "name": "ipython",
    "version": 3
   },
   "file_extension": ".py",
   "mimetype": "text/x-python",
   "name": "python",
   "nbconvert_exporter": "python",
   "pygments_lexer": "ipython3",
   "version": "3.6.8"
  },
  "toc": {
   "base_numbering": 1,
   "nav_menu": {},
   "number_sections": true,
   "sideBar": true,
   "skip_h1_title": false,
   "title_cell": "Table of Contents",
   "title_sidebar": "Contents",
   "toc_cell": false,
   "toc_position": {},
   "toc_section_display": true,
   "toc_window_display": false
  }
 },
 "nbformat": 4,
 "nbformat_minor": 2
}
